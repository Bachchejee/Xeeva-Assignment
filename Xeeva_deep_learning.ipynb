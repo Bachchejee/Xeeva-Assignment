{
  "nbformat": 4,
  "nbformat_minor": 0,
  "metadata": {
    "colab": {
      "name": "Xeeva deep_learning.ipynb",
      "private_outputs": true,
      "provenance": [],
      "collapsed_sections": []
    },
    "kernelspec": {
      "name": "python3",
      "display_name": "Python 3"
    }
  },
  "cells": [
    {
      "cell_type": "code",
      "metadata": {
        "id": "9R8URRSOcPeX"
      },
      "source": [
        "from google.colab import drive\r\n",
        "drive.mount('/content/drive')"
      ],
      "execution_count": null,
      "outputs": []
    },
    {
      "cell_type": "code",
      "metadata": {
        "id": "b5kSXsn6cWaS"
      },
      "source": [
        "# importing essential libraries and modules \r\n",
        "import pandas as pd\r\n",
        "import matplotlib.pyplot as plt\r\n",
        "import tensorflow as tf\r\n",
        "from tensorflow import keras\r\n",
        "from sklearn.model_selection import train_test_split\r\n",
        "import numpy as np\r\n",
        "from keras.models import Sequential\r\n",
        "from keras.layers import Dense"
      ],
      "execution_count": null,
      "outputs": []
    },
    {
      "cell_type": "code",
      "metadata": {
        "id": "EhxPOs2_cgys"
      },
      "source": [
        "dataset=pd.read_csv('/content/deep_learning.csv')"
      ],
      "execution_count": null,
      "outputs": []
    },
    {
      "cell_type": "code",
      "metadata": {
        "id": "QW5wAHkZcimG"
      },
      "source": [
        "dataset.head()"
      ],
      "execution_count": null,
      "outputs": []
    },
    {
      "cell_type": "code",
      "metadata": {
        "id": "q1TpOltOckNf"
      },
      "source": [
        "dataset.describe()"
      ],
      "execution_count": null,
      "outputs": []
    },
    {
      "cell_type": "code",
      "metadata": {
        "id": "jzjKXNMGcmTd"
      },
      "source": [
        "dataset.info()"
      ],
      "execution_count": null,
      "outputs": []
    },
    {
      "cell_type": "code",
      "metadata": {
        "id": "poJWs0LNcn6U"
      },
      "source": [
        "# get the number of missing data points per column\r\n",
        "missing_values_count = dataset.isnull().sum()"
      ],
      "execution_count": null,
      "outputs": []
    },
    {
      "cell_type": "code",
      "metadata": {
        "id": "HnNbe8Wicp70"
      },
      "source": [
        "#Splitting Dataset into Train and Test\r\n",
        "X = dataset.drop(['Age'],axis=1).values\r\n",
        "y = dataset['Age'].values\r\n",
        "X_train, X_test, y_train, y_test = train_test_split(X, y, test_size=0.3)"
      ],
      "execution_count": null,
      "outputs": []
    },
    {
      "cell_type": "code",
      "metadata": {
        "id": "5vF1n6Tzcrxa"
      },
      "source": [
        "train_X = dataset.drop(columns=['Age'])\r\n",
        "#check that the target variable has been removed\r\n",
        "train_X.head()"
      ],
      "execution_count": null,
      "outputs": []
    },
    {
      "cell_type": "code",
      "metadata": {
        "id": "95urb8NIctt4"
      },
      "source": [
        "#create a dataframe with only the target column\r\n",
        "train_y = dataset[['Age']]\r\n",
        "#view dataframe\r\n",
        "train_y.head()"
      ],
      "execution_count": null,
      "outputs": []
    },
    {
      "cell_type": "code",
      "metadata": {
        "id": "NC4PyRJ5cvrc"
      },
      "source": [
        "#Building the model"
      ],
      "execution_count": null,
      "outputs": []
    },
    {
      "cell_type": "code",
      "metadata": {
        "id": "HFdodG1mcxU_"
      },
      "source": [
        "#create model\r\n",
        "model = Sequential()\r\n",
        "\r\n",
        "#get number of columns in training data\r\n",
        "n_cols = train_X.shape[1]\r\n",
        "\r\n",
        "#add model layers\r\n",
        "model.add(Dense(10, activation='relu', input_shape=(n_cols,)))\r\n",
        "model.add(Dense(10, activation='relu'))\r\n",
        "model.add(Dense(1))"
      ],
      "execution_count": null,
      "outputs": []
    },
    {
      "cell_type": "code",
      "metadata": {
        "id": "A90nureNczYC"
      },
      "source": [
        "#compile model using mse as a measure of model performance\r\n",
        "model.compile(optimizer='adam', loss='mean_squared_error')"
      ],
      "execution_count": null,
      "outputs": []
    },
    {
      "cell_type": "code",
      "metadata": {
        "id": "-wwDJyIsc1RP"
      },
      "source": [
        "#Training the model"
      ],
      "execution_count": null,
      "outputs": []
    },
    {
      "cell_type": "code",
      "metadata": {
        "id": "a0bjXd1yc200"
      },
      "source": [
        "from keras.callbacks import EarlyStopping\r\n",
        "#set early stopping monitor so the model stops training when it won't improve anymore\r\n",
        "early_stopping_monitor = EarlyStopping(patience=3)\r\n",
        "#train model\r\n",
        "model.fit(train_X, train_y, validation_split=0.2, epochs=30, callbacks=[early_stopping_monitor])"
      ],
      "execution_count": null,
      "outputs": []
    },
    {
      "cell_type": "code",
      "metadata": {
        "id": "GOx7_yvqc5GI"
      },
      "source": [
        "#Making predictions on new data"
      ],
      "execution_count": null,
      "outputs": []
    },
    {
      "cell_type": "code",
      "metadata": {
        "id": "V9Zjg69Bc746"
      },
      "source": [
        "test_y_predictions = model.predict(X_test)"
      ],
      "execution_count": null,
      "outputs": []
    },
    {
      "cell_type": "code",
      "metadata": {
        "id": "-hDJAFtHc9gi"
      },
      "source": [
        "#training a new model on the same data to show the effect of increasing model capacity\r\n",
        "\r\n",
        "#create model\r\n",
        "model_mc = Sequential()\r\n",
        "\r\n",
        "#add model layers\r\n",
        "model_mc.add(Dense(200, activation='relu', input_shape=(n_cols,)))\r\n",
        "model_mc.add(Dense(200, activation='relu'))\r\n",
        "model_mc.add(Dense(200, activation='relu'))\r\n",
        "model_mc.add(Dense(1))\r\n",
        "\r\n",
        "#compile model using mse as a measure of model performance\r\n",
        "model_mc.compile(optimizer='adam', loss='mean_squared_error')\r\n",
        "#train model\r\n",
        "model_mc.fit(train_X, train_y, validation_split=0.2, epochs=30, callbacks=[early_stopping_monitor])"
      ],
      "execution_count": null,
      "outputs": []
    },
    {
      "cell_type": "code",
      "metadata": {
        "id": "FPTNdRHHc_ou"
      },
      "source": [
        "#Checking the Confusion Matrix\r\n",
        "test_y_predictions = (test_y_predictions > 0.5)"
      ],
      "execution_count": null,
      "outputs": []
    },
    {
      "cell_type": "code",
      "metadata": {
        "id": "W6yrVc4LdCNa"
      },
      "source": [
        "from sklearn.metrics import confusion_matrix\r\n",
        "cm = confusion_matrix(y_test, test_y_predictions)\r\n",
        "print(cm)\r\n",
        "fig = plt.figure()\r\n",
        "ax = fig.add_subplot(111)\r\n",
        "cax = ax.matshow(cm)\r\n",
        "plt.xlabel('Predicted Values')\r\n",
        "plt.ylabel('Actual Values')\r\n",
        "plt.show()"
      ],
      "execution_count": null,
      "outputs": []
    },
    {
      "cell_type": "code",
      "metadata": {
        "id": "NcjVopIodD41"
      },
      "source": [
        "#Classification Report\r\n",
        "from sklearn.metrics import classification_report\r\n",
        "report = classification_report(y_test, test_y_predictions)\r\n",
        "report"
      ],
      "execution_count": null,
      "outputs": []
    },
    {
      "cell_type": "code",
      "metadata": {
        "id": "d9q78BH_dF7u"
      },
      "source": [
        "# Cross Validation Regression MAE\r\n",
        "from sklearn import model_selection\r\n",
        "from sklearn.linear_model import LinearRegression\r\n",
        "kfold = model_selection.KFold(n_splits=10, random_state=7, shuffle=True)\r\n",
        "model = LinearRegression()\r\n",
        "scoring = 'neg_mean_absolute_error'\r\n",
        "results = model_selection.cross_val_score(model, X, y, cv=kfold, scoring=scoring)\r\n",
        "print(\"MAE: %.3f (%.3f)\" % (results.mean(), results.std()))"
      ],
      "execution_count": null,
      "outputs": []
    },
    {
      "cell_type": "code",
      "metadata": {
        "id": "LP9h36TpdIae"
      },
      "source": [
        "# Cross Validation Regression Mean Squared Error\r\n",
        "scoring = 'neg_mean_squared_error'\r\n",
        "results = model_selection.cross_val_score(model, X, y, cv=kfold, scoring=scoring)\r\n",
        "print(\"MSE: %.3f (%.3f)\" % (results.mean(), results.std()))"
      ],
      "execution_count": null,
      "outputs": []
    },
    {
      "cell_type": "code",
      "metadata": {
        "id": "LOyf7bbhdKsc"
      },
      "source": [
        "#R Squared Metrics"
      ],
      "execution_count": null,
      "outputs": []
    },
    {
      "cell_type": "code",
      "metadata": {
        "id": "LMRmPV7ddMoY"
      },
      "source": [
        "scoring = 'r2'\r\n",
        "results = model_selection.cross_val_score(model, X, y, cv=kfold, scoring=scoring)\r\n",
        "print(\"R^2: %.3f (%.3f)\" % (results.mean(), results.std()))"
      ],
      "execution_count": null,
      "outputs": []
    },
    {
      "cell_type": "code",
      "metadata": {
        "id": "9lNChfINdOou"
      },
      "source": [
        "#Accuracy"
      ],
      "execution_count": null,
      "outputs": []
    },
    {
      "cell_type": "code",
      "metadata": {
        "id": "-mezpVOfdQqS"
      },
      "source": [
        "lireg=LinearRegression().fit(X_train,y_train) # initialize & fit the model\r\n",
        "result = lireg.score(X_test, y_test)\r\n",
        "print(\"Accuracy: %.2f%%\" % (result*100.0))"
      ],
      "execution_count": null,
      "outputs": []
    },
    {
      "cell_type": "code",
      "metadata": {
        "id": "HIiN3OkbdSjE"
      },
      "source": [
        "#Thank YOU"
      ],
      "execution_count": null,
      "outputs": []
    },
    {
      "cell_type": "code",
      "metadata": {
        "id": "MuoP1EfkwTW9"
      },
      "source": [
        ""
      ],
      "execution_count": null,
      "outputs": []
    }
  ]
}